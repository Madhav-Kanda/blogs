{
 "cells": [
  {
   "cell_type": "raw",
   "id": "3e33ff73",
   "metadata": {},
   "source": [
    "---\n",
    "aliases:\n",
    "- /WNR/2023/07/21\n",
    "author: Madhav Kanda\n",
    "badges: true\n",
    "categories:\n",
    "- MCMC\n",
    "- Bayesian\n",
    "date: '2023-07-21'\n",
    "description: Windowed Non-Linear Reparamaterization\n",
    "output-file: 2023-07-21-wnr.html\n",
    "title: Windowed Non-Linear Reparamaterization\n",
    "toc: true\n",
    "\n",
    "---"
   ]
  },
  {
   "cell_type": "markdown",
   "id": "b089f20e",
   "metadata": {
    "slideshow": {
     "slide_type": "slide"
    }
   },
   "source": [
    "<h1 align=\"center\">Windowed Non-Linear Reparameterisation for probabilistic models<h1>\n",
    "    "
   ]
  },
  {
   "cell_type": "markdown",
   "id": "8abd554c",
   "metadata": {
    "slideshow": {
     "slide_type": "slide"
    }
   },
   "source": [
    "## What is Reparameterisation?\n",
    "\n",
    "Expressing the model in terms of new variables defined by a bijective transformation of the original variables.\n",
    "For example: One such reparameterization technique is Non-centering.\n",
    "    * Consider: z ~ $N(\\mu, \\sigma)$ (centered parameterization)\n",
    "    * Introducing z' ~ $N(0,1)$ \n",
    "    * Now, z = $\\mu + \\sigma z'$ (Non-centered parameterization)"
   ]
  },
  {
   "cell_type": "markdown",
   "id": "7b9c4938",
   "metadata": {
    "slideshow": {
     "slide_type": "slide"
    }
   },
   "source": [
    "## Why Reparameterisation?\n",
    "\n",
    "* At times MCMC algorithms have trouble sampling from distributions. \n",
    "* One such example is Neal's funnel in which due to strong non-linear dependence between latent variables. \n",
    "* Non-centering the model removes this dependence, converting the funnel into a spherical Gaussian distribution.\n",
    "* NealsFunnel(z, x)\n",
    "    * $z ∼ N (0, 3)$ $\\quad$\n",
    "    * $x ∼ N (0, \\exp(z/2))$"
   ]
  },
  {
   "cell_type": "markdown",
   "id": "095b5798",
   "metadata": {
    "slideshow": {
     "slide_type": "slide"
    }
   },
   "source": [
    "<div align = center>\n",
    "<img width=\"600\" alt=\"image\" src=\"images/wnr/funnel_c.webp\">\n",
    "</div>"
   ]
  },
  {
   "cell_type": "markdown",
   "id": "9a41852d",
   "metadata": {
    "slideshow": {
     "slide_type": "fragment"
    }
   },
   "source": [
    "* Is non centering the solution to all sampling related problem?"
   ]
  },
  {
   "cell_type": "markdown",
   "id": "4d3d0b7d",
   "metadata": {
    "slideshow": {
     "slide_type": "fragment"
    }
   },
   "source": [
    "* No!"
   ]
  },
  {
   "cell_type": "code",
   "execution_count": 21,
   "id": "e2dc1cc0",
   "metadata": {
    "slideshow": {
     "slide_type": "skip"
    }
   },
   "outputs": [],
   "source": [
    "## Slide not to be shown (imports)\n",
    "import jax\n",
    "import optuna\n",
    "import numpyro\n",
    "import jax.numpy as jnp\n",
    "from numpyro.infer import MCMC, NUTS\n",
    "import numpyro.distributions as dist\n",
    "import matplotlib.pyplot as plt\n",
    "from jax.scipy.optimize import minimize\n",
    "\n",
    "rng_key = jax.random.PRNGKey(0) \n",
    "from numpyro.infer.reparam import LocScaleReparam\n",
    "from numpyro.handlers import reparam"
   ]
  },
  {
   "cell_type": "code",
   "execution_count": 22,
   "id": "e8cb1f30",
   "metadata": {
    "slideshow": {
     "slide_type": "skip"
    }
   },
   "outputs": [],
   "source": [
    "## Slide not to be shown (Some functions)\n",
    "def inference(model):\n",
    "    nuts_kernel = NUTS(model)\n",
    "    mcmc = MCMC(nuts_kernel, num_warmup=500, num_samples=1000)\n",
    "    mcmc.run(rng_key, extra_fields=('potential_energy',))\n",
    "    return mcmc.get_samples()\n",
    "\n",
    "def scatterplt(samples):\n",
    "    try:\n",
    "        plt.scatter(samples['theta_decentered'], samples['mu'])\n",
    "        plt.xlabel('theta_decentered')\n",
    "    except:\n",
    "        plt.scatter(samples['theta'], samples['mu'])\n",
    "        plt.xlabel('theta')\n",
    "    plt.ylabel('mu')\n",
    "    plt.show()"
   ]
  },
  {
   "cell_type": "markdown",
   "id": "d605d60a",
   "metadata": {
    "slideshow": {
     "slide_type": "slide"
    }
   },
   "source": [
    "* Lets' see an example to find out why!"
   ]
  },
  {
   "cell_type": "code",
   "execution_count": 23,
   "id": "48d4e646",
   "metadata": {
    "slideshow": {
     "slide_type": "fragment"
    }
   },
   "outputs": [],
   "source": [
    "samples_normal = jax.random.normal(rng_key, shape=(10000,)) + 3  ## samples from a standard normal\n",
    "\n",
    "def model():\n",
    "    mu = numpyro.sample('mu', dist.Normal(5, 1))                  ## mu ~ N(5,1)\n",
    "    theta = numpyro.sample('theta', dist.Normal(mu, 2))           ## theta ~ N(mu,2)\n",
    "    numpyro.sample('obs', dist.Normal(theta, 1), obs=samples_normal)     ## P(y|theta) ~ N(theta,1)"
   ]
  },
  {
   "cell_type": "code",
   "execution_count": 39,
   "id": "27416b5a",
   "metadata": {
    "slideshow": {
     "slide_type": "slide"
    }
   },
   "outputs": [
    {
     "name": "stderr",
     "output_type": "stream",
     "text": [
      "sample: 100%|██████████████████████████████████████████████████| 1500/1500 [00:05<00:00, 292.12it/s, 427 steps of size 1.29e-02. acc. prob=0.91]\n"
     ]
    },
    {
     "data": {
      "image/png": "[encoded data removed]",
      "text/plain": [
       "<Figure size 640x480 with 1 Axes>"
      ]
     },
     "metadata": {},
     "output_type": "display_data"
    }
   ],
   "source": [
    "ncp_model = reparam(model, config={'theta': LocScaleReparam(0)})\n",
    "samples_ncp = inference(ncp_model)\n",
    "scatterplt(samples_ncp)"
   ]
  },
  {
   "cell_type": "code",
   "execution_count": 25,
   "id": "a36302e2",
   "metadata": {
    "slideshow": {
     "slide_type": "skip"
    }
   },
   "outputs": [
    {
     "name": "stderr",
     "output_type": "stream",
     "text": [
      "sample: 100%|████████████████████████████████████████████████████| 1500/1500 [00:01<00:00, 945.30it/s, 7 steps of size 7.40e-01. acc. prob=0.93]\n"
     ]
    },
    {
     "data": {
      "image/png": "[encoded data removed]",
      "text/plain": [
       "<Figure size 640x480 with 1 Axes>"
      ]
     },
     "metadata": {},
     "output_type": "display_data"
    }
   ],
   "source": [
    "ncp_model = reparam(model, config={'theta': LocScaleReparam(1)})\n",
    "samples_ncp = inference(ncp_model)\n",
    "scatterplt(samples_ncp)"
   ]
  },
  {
   "cell_type": "markdown",
   "id": "563780c6",
   "metadata": {
    "slideshow": {
     "slide_type": "skip"
    }
   },
   "source": [
    "* From the above experiment it is evident that the we don't get the best results in non-centered parameterisation rather the best centeredness varies from model to model based on parameters."
   ]
  },
  {
   "cell_type": "markdown",
   "id": "d3e167b8",
   "metadata": {
    "slideshow": {
     "slide_type": "slide"
    }
   },
   "source": [
    "## Centeredness vs Non-centeredness\n",
    "\n",
    "* The best parameterization for a given model may lie somewhere between centered and non centered representation.\n",
    "* Existing solutions: \n",
    "    * Variationally Inferred Parameterization[1]  \n",
    "    * NeuTra-lizing Bad Geometry in HMC[2]"
   ]
  },
  {
   "cell_type": "markdown",
   "id": "8aac508a",
   "metadata": {
    "slideshow": {
     "slide_type": "slide"
    }
   },
   "source": [
    "## Problems with existing solutions\n",
    "\n",
    "* Requires separate pre-processing steps apart from the regular warmup and sampling steps which increases the computation cost.\n",
    "* Need to tune the hyperparameters for the existing solutions to get good results"
   ]
  },
  {
   "cell_type": "markdown",
   "id": "ea5629c4",
   "metadata": {
    "slideshow": {
     "slide_type": "slide"
    }
   },
   "source": [
    "## Proposed Solution\n",
    "\n",
    "* Finding the optimal centeredness during the succesive windows of warmup.\n",
    "* Loss function for finding centeredness should be such that it takes the parameterized distribution as close as possible to Normal distribution.\n"
   ]
  },
  {
   "cell_type": "markdown",
   "id": "695abd8c",
   "metadata": {
    "slideshow": {
     "slide_type": "slide"
    }
   },
   "source": [
    "## Warmup Phase\n",
    "\n",
    "* Used for adaptation of inverse mass matrix ($M^{-1}$) and time step size ($\\Delta t$).\n",
    "* Consist of three stages:\n",
    "<img width=\"1000\" alt=\"image\" src=\"images/wnr/warmup-epochs.png\">\n",
    "    \n",
    "    * Initial buffer (I): Time step adaptation ($\\Delta t$)\n",
    "    * Window buffer (II): Both Time step ($\\Delta t$) & Inverse mass matrix adaptation ($M^{-1}$)\n",
    "    * Term buffer (III): Final Time step adaptation ($\\Delta t$)"
   ]
  },
  {
   "cell_type": "markdown",
   "id": "b011b4f8",
   "metadata": {
    "slideshow": {
     "slide_type": "slide"
    }
   },
   "source": [
    "## Modified Warmup Phase\n",
    "\n",
    "* Used for adaptation of inverse mass matrix ($M^{-1}$), time step size ($\\Delta t$) and *centeredness ($c$)*.\n",
    "* Initial buffer and Term buffer remains the same.\n",
    "* Using the samples obtained after each window buffer, optimize the centeredness ($c$) so as to reduce the distance between the present reparameterized distribution and an independent normal distribution.\n",
    "* For each succesive window, reparameterize the model based on the optimal centeredness obtained and repeat the step for finding optimal centeredness."
   ]
  },
  {
   "cell_type": "markdown",
   "id": "d0b2c627",
   "metadata": {
    "slideshow": {
     "slide_type": "slide"
    }
   },
   "source": [
    "## Loss Function\n",
    "\n",
    "* $\\Theta^{SXN}$ $\\to$ matrix of draws\n",
    "* $\\Phi^{(c)}$ $\\to$ bijective family of reparameterisation (maps $P$ to $P_{c}$ and $\\Theta$ to $\\Theta_{c})$\n",
    "\n",
    "\n",
    "* $\\log p_{c}(\\theta^{(c)})$ = $\\log p\\ (inv\\ \\Phi^{(c)})$ + $\\log |\\nabla_{\\theta} \\Phi^{(c}|$\n",
    "* $Q^{c}$~$N(mean(\\Theta_{c}), diag var(\\Theta_{c}))$\n",
    "* $\\Phi^{(c^{*})} =\\ argmin_{\\Phi^{(c)}}KL(P^{(c)}||Q^{(c)})$"
   ]
  },
  {
   "cell_type": "markdown",
   "id": "0c1ab0b5",
   "metadata": {
    "slideshow": {
     "slide_type": "slide"
    }
   },
   "source": [
    "## Experimentation\n",
    "\n",
    "* Initial experiments done on Eight School 's model."
   ]
  },
  {
   "cell_type": "code",
   "execution_count": 26,
   "id": "1e2110c6",
   "metadata": {
    "slideshow": {
     "slide_type": "skip"
    }
   },
   "outputs": [],
   "source": [
    "J = 8\n",
    "y = jnp.array([28.0, 8.0, -3.0, 7.0, -1.0, 1.0, 18.0, 12.0])\n",
    "sigma = jnp.array([15.0, 10.0, 16.0, 11.0, 9.0, 11.0, 10.0, 18.0])"
   ]
  },
  {
   "cell_type": "code",
   "execution_count": 27,
   "id": "f24d8c76",
   "metadata": {
    "slideshow": {
     "slide_type": "fragment"
    }
   },
   "outputs": [],
   "source": [
    "def eight_schools(J, sigma, y=None):\n",
    "    mu = numpyro.sample('mu', dist.Normal(2, 5))                 # mu ~ N(2,5)\n",
    "    tau = numpyro.sample('tau', dist.HalfCauchy(5))              # tau ~ HalfCauchy(5)\n",
    "    with numpyro.plate('J', J):\n",
    "        theta = numpyro.sample('theta', dist.Normal(mu, tau))    # theta_i ~ N(mu,tau)\n",
    "        numpyro.sample('obs', dist.Normal(theta, sigma), obs=y)  # P(y|theta_i) ~ N(theta_i, sigma)"
   ]
  },
  {
   "cell_type": "markdown",
   "id": "8b42f141",
   "metadata": {
    "slideshow": {
     "slide_type": "fragment"
    }
   },
   "source": [
    "* On post warmup samples"
   ]
  },
  {
   "cell_type": "code",
   "execution_count": 28,
   "id": "4dd9785b",
   "metadata": {
    "slideshow": {
     "slide_type": "fragment"
    }
   },
   "outputs": [
    {
     "name": "stderr",
     "output_type": "stream",
     "text": [
      "warmup: 100%|███████████████████████████████████████████████████| 1000/1000 [00:01<00:00, 664.42it/s, 31 steps of size 1.67e-01. acc. prob=0.79]\n"
     ]
    }
   ],
   "source": [
    "# Sampling\n",
    "nuts_kernel = NUTS(eight_schools)\n",
    "warmup = MCMC(nuts_kernel, num_warmup=1000, num_samples=0)    # Collecting all warmup samples           \n",
    "warmup.warmup(rng_key, J, sigma, y=y, collect_warmup=True)\n",
    "samples = warmup.get_samples()"
   ]
  },
  {
   "cell_type": "markdown",
   "id": "1bc51cfc",
   "metadata": {
    "slideshow": {
     "slide_type": "slide"
    }
   },
   "source": [
    "* Using the following continuous reparameterization family (from Variationally Inferred Parameterization (VIP)) :\n",
    "    * For each $z_{i}$ ~ $N(z_{i}|\\mu_{i}, \\sigma_{i})$\n",
    "    * Define $z'_{i}$ ~ $N(\\lambda_{i} \\mu_{i}, \\sigma^{\\lambda_{i}}) $\n",
    "    * Now, $z_{i}$ = $\\mu_{i} + \\sigma_{i}^{1-\\lambda_{i}}(z'_{i}-\\lambda_{i}\\mu_{i})$"
   ]
  },
  {
   "cell_type": "code",
   "execution_count": 29,
   "id": "cc6d8d43",
   "metadata": {
    "slideshow": {
     "slide_type": "fragment"
    }
   },
   "outputs": [],
   "source": [
    "# For reparameterizing the samples and for creating the mulivariate normal distribution\n",
    "def reparameterize_samples_dist(samples, c):\n",
    "    param_samples = samples['theta'].T\n",
    "    param_mean = samples['mu']\n",
    "    param_std = samples['tau']\n",
    "\n",
    "    new_param_samples = param_mean * c + (param_samples - param_mean) * param_std ** (c - 1)\n",
    "    \n",
    "    theta_mu = jnp.mean(new_param_samples, axis=1)\n",
    "    theta_std = jnp.std(new_param_samples, axis=1)\n",
    "    \n",
    "    mvn = dist.MultivariateNormal(loc=theta_mu, covariance_matrix=jnp.diag(theta_std**2))\n",
    "    \n",
    "    return new_param_samples, mvn, theta_mu, theta_std"
   ]
  },
  {
   "cell_type": "code",
   "execution_count": 30,
   "id": "ed398ed2",
   "metadata": {
    "slideshow": {
     "slide_type": "skip"
    }
   },
   "outputs": [],
   "source": [
    "# For Computing the jacobian matrix for transformation\n",
    "def log_jacobian(samples, c):\n",
    "    sigma = samples['tau']\n",
    "    logJ = jnp.sum(jnp.log(sigma) * (1 - c) * samples['theta'].shape[1])\n",
    "    logJ /= len(sigma)\n",
    "    return logJ"
   ]
  },
  {
   "cell_type": "code",
   "execution_count": 31,
   "id": "2757e371",
   "metadata": {
    "slideshow": {
     "slide_type": "skip"
    }
   },
   "outputs": [],
   "source": [
    "# Function for computing KL divergence\n",
    "def kl_value(centeredness):\n",
    "    centeredness = centeredness[0]\n",
    "    reparam_sample, mvn, mu_theta, std_theta = reparameterize_samples_dist(samples, centeredness)\n",
    "    jacobian_log = log_jacobian(samples, centeredness)\n",
    "    kl = -mvn.log_prob(reparam_sample.T).mean() + jacobian_log    \n",
    "    return kl"
   ]
  },
  {
   "cell_type": "markdown",
   "id": "5a8e4531",
   "metadata": {
    "slideshow": {
     "slide_type": "slide"
    }
   },
   "source": [
    "## **Experimentation**\n",
    "### Optimization\n",
    "\n",
    "* Jax based BFGS Optimization"
   ]
  },
  {
   "cell_type": "code",
   "execution_count": 32,
   "id": "6425685d",
   "metadata": {
    "slideshow": {
     "slide_type": "fragment"
    }
   },
   "outputs": [
    {
     "name": "stdout",
     "output_type": "stream",
     "text": [
      "0.039444983\n"
     ]
    }
   ],
   "source": [
    "# jax based BFGS optimization\n",
    "c_initial = jnp.array([0.1])\n",
    "res = minimize(kl_value, c_initial, method='BFGS')\n",
    "\n",
    "best_c_jax = res.x[0]\n",
    "print(best_c_jax)"
   ]
  },
  {
   "cell_type": "markdown",
   "id": "e6ed28ac",
   "metadata": {
    "slideshow": {
     "slide_type": "fragment"
    }
   },
   "source": [
    "* Optuna based optimization"
   ]
  },
  {
   "cell_type": "code",
   "execution_count": 33,
   "id": "0598cc02",
   "metadata": {
    "slideshow": {
     "slide_type": "skip"
    }
   },
   "outputs": [],
   "source": [
    "def kl_value_optuna(centeredness):\n",
    "    reparam_sample, mvn, mu_theta, std_theta = reparameterize_samples_dist(samples, centeredness)\n",
    "    jacobian_log = log_jacobian(samples, centeredness)\n",
    "    kl = -mvn.log_prob(reparam_sample.T).mean() + jacobian_log    \n",
    "    return kl"
   ]
  },
  {
   "cell_type": "code",
   "execution_count": 34,
   "id": "0730b90c",
   "metadata": {
    "slideshow": {
     "slide_type": "skip"
    }
   },
   "outputs": [],
   "source": [
    "# Defining the function that needs to be minimized\n",
    "def objective(trial):\n",
    "    x = trial.suggest_float('x', 0, 1) \n",
    "    loss = kl_value_optuna(x)\n",
    "    return loss"
   ]
  },
  {
   "cell_type": "code",
   "execution_count": 35,
   "id": "db36b7e6",
   "metadata": {
    "slideshow": {
     "slide_type": "fragment"
    }
   },
   "outputs": [
    {
     "name": "stderr",
     "output_type": "stream",
     "text": [
      "[I 2023-07-21 10:18:04,196] A new study created in memory with name: no-name-e44544c7-441a-473a-bc18-a432f75adfa1\n",
      "[I 2023-07-21 10:18:04,206] Trial 0 finished with value: 23.828033447265625 and parameters: {'x': 0.6836423506232001}. Best is trial 0 with value: 23.828033447265625.\n",
      "[I 2023-07-21 10:18:04,213] Trial 1 finished with value: 22.330141067504883 and parameters: {'x': 0.31510480607284663}. Best is trial 1 with value: 22.330141067504883.\n",
      "[I 2023-07-21 10:18:04,219] Trial 2 finished with value: 23.988616943359375 and parameters: {'x': 0.7416812802642535}. Best is trial 1 with value: 22.330141067504883.\n",
      "[I 2023-07-21 10:18:04,225] Trial 3 finished with value: 22.793212890625 and parameters: {'x': 0.4021102636806101}. Best is trial 1 with value: 22.330141067504883.\n",
      "[I 2023-07-21 10:18:04,235] Trial 4 finished with value: 23.1121826171875 and parameters: {'x': 0.47281628051339153}. Best is trial 1 with value: 22.330141067504883.\n",
      "[I 2023-07-21 10:18:04,241] Trial 5 finished with value: 24.047700881958008 and parameters: {'x': 0.763610716203396}. Best is trial 1 with value: 22.330141067504883.\n",
      "[I 2023-07-21 10:18:04,246] Trial 6 finished with value: 23.63525390625 and parameters: {'x': 0.6186275897607579}. Best is trial 1 with value: 22.330141067504883.\n",
      "[I 2023-07-21 10:18:04,250] Trial 7 finished with value: 22.01073455810547 and parameters: {'x': 0.26166971294215235}. Best is trial 7 with value: 22.01073455810547.\n",
      "[I 2023-07-21 10:18:04,255] Trial 8 finished with value: 20.962158203125 and parameters: {'x': 0.02985572213240162}. Best is trial 8 with value: 20.962158203125.\n",
      "[I 2023-07-21 10:18:04,261] Trial 9 finished with value: 24.657468795776367 and parameters: {'x': 0.9820145838977358}. Best is trial 8 with value: 20.962158203125.\n",
      "[I 2023-07-21 10:18:04,270] Trial 10 finished with value: 20.976028442382812 and parameters: {'x': 0.06068083002352253}. Best is trial 8 with value: 20.962158203125.\n",
      "[I 2023-07-21 10:18:04,279] Trial 11 finished with value: 21.0074405670166 and parameters: {'x': 0.006349822398729228}. Best is trial 8 with value: 20.962158203125.\n",
      "[I 2023-07-21 10:18:04,289] Trial 12 finished with value: 20.95828628540039 and parameters: {'x': 0.03837928344880258}. Best is trial 12 with value: 20.95828628540039.\n",
      "[I 2023-07-21 10:18:04,296] Trial 13 finished with value: 21.380779266357422 and parameters: {'x': 0.1591324708414881}. Best is trial 12 with value: 20.95828628540039.\n",
      "[I 2023-07-21 10:18:04,304] Trial 14 finished with value: 21.249404907226562 and parameters: {'x': 0.13516324406752406}. Best is trial 12 with value: 20.95828628540039.\n",
      "[I 2023-07-21 10:18:04,311] Trial 15 finished with value: 21.51775550842285 and parameters: {'x': 0.1823033770408416}. Best is trial 12 with value: 20.95828628540039.\n",
      "[I 2023-07-21 10:18:04,318] Trial 16 finished with value: 20.9879093170166 and parameters: {'x': 0.013546568169784973}. Best is trial 12 with value: 20.95828628540039.\n",
      "[I 2023-07-21 10:18:04,326] Trial 17 finished with value: 22.08734703063965 and parameters: {'x': 0.2741767294681202}. Best is trial 12 with value: 20.95828628540039.\n",
      "[I 2023-07-21 10:18:04,333] Trial 18 finished with value: 21.084999084472656 and parameters: {'x': 0.09928297501202724}. Best is trial 12 with value: 20.95828628540039.\n",
      "[I 2023-07-21 10:18:04,342] Trial 19 finished with value: 21.66363525390625 and parameters: {'x': 0.2060073710034258}. Best is trial 12 with value: 20.95828628540039.\n",
      "[I 2023-07-21 10:18:04,349] Trial 20 finished with value: 21.030845642089844 and parameters: {'x': 0.08372884654010455}. Best is trial 12 with value: 20.95828628540039.\n",
      "[I 2023-07-21 10:18:04,356] Trial 21 finished with value: 20.97620964050293 and parameters: {'x': 0.019163537063202913}. Best is trial 12 with value: 20.95828628540039.\n",
      "[I 2023-07-21 10:18:04,364] Trial 22 finished with value: 21.066829681396484 and parameters: {'x': 0.09443922855709355}. Best is trial 12 with value: 20.95828628540039.\n",
      "[I 2023-07-21 10:18:04,373] Trial 23 finished with value: 21.014368057250977 and parameters: {'x': 0.004176641844005589}. Best is trial 12 with value: 20.95828628540039.\n",
      "[I 2023-07-21 10:18:04,382] Trial 24 finished with value: 21.727500915527344 and parameters: {'x': 0.21623911997454487}. Best is trial 12 with value: 20.95828628540039.\n",
      "[I 2023-07-21 10:18:04,391] Trial 25 finished with value: 22.513742446899414 and parameters: {'x': 0.34788855285413245}. Best is trial 12 with value: 20.95828628540039.\n",
      "[I 2023-07-21 10:18:04,401] Trial 26 finished with value: 21.168197631835938 and parameters: {'x': 0.11871261692692425}. Best is trial 12 with value: 20.95828628540039.\n",
      "[I 2023-07-21 10:18:04,411] Trial 27 finished with value: 21.795785903930664 and parameters: {'x': 0.22714616272200738}. Best is trial 12 with value: 20.95828628540039.\n",
      "[I 2023-07-21 10:18:04,420] Trial 28 finished with value: 21.02497100830078 and parameters: {'x': 0.08178260702592446}. Best is trial 12 with value: 20.95828628540039.\n",
      "[I 2023-07-21 10:18:04,428] Trial 29 finished with value: 21.428577423095703 and parameters: {'x': 0.16736705401787944}. Best is trial 12 with value: 20.95828628540039.\n",
      "[I 2023-07-21 10:18:04,435] Trial 30 finished with value: 22.204639434814453 and parameters: {'x': 0.29366488158390514}. Best is trial 12 with value: 20.95828628540039.\n",
      "[I 2023-07-21 10:18:04,446] Trial 31 finished with value: 20.961380004882812 and parameters: {'x': 0.048223931932001696}. Best is trial 12 with value: 20.95828628540039.\n",
      "[I 2023-07-21 10:18:04,453] Trial 32 finished with value: 20.9786319732666 and parameters: {'x': 0.062229582663207994}. Best is trial 12 with value: 20.95828628540039.\n",
      "[I 2023-07-21 10:18:04,469] Trial 33 finished with value: 20.96645736694336 and parameters: {'x': 0.05374654191329599}. Best is trial 12 with value: 20.95828628540039.\n",
      "[I 2023-07-21 10:18:04,479] Trial 34 finished with value: 21.31035614013672 and parameters: {'x': 0.1465825701130587}. Best is trial 12 with value: 20.95828628540039.\n",
      "[I 2023-07-21 10:18:04,493] Trial 35 finished with value: 20.961551666259766 and parameters: {'x': 0.04846254887528956}. Best is trial 12 with value: 20.95828628540039.\n",
      "[I 2023-07-21 10:18:04,505] Trial 36 finished with value: 22.511117935180664 and parameters: {'x': 0.3474062272235182}. Best is trial 12 with value: 20.95828628540039.\n",
      "[I 2023-07-21 10:18:04,529] Trial 37 finished with value: 21.258878707885742 and parameters: {'x': 0.13698018355781486}. Best is trial 12 with value: 20.95828628540039.\n",
      "[I 2023-07-21 10:18:04,539] Trial 38 finished with value: 21.836639404296875 and parameters: {'x': 0.23367165785156452}. Best is trial 12 with value: 20.95828628540039.\n",
      "[I 2023-07-21 10:18:04,558] Trial 39 finished with value: 21.46848487854004 and parameters: {'x': 0.17411007326437267}. Best is trial 12 with value: 20.95828628540039.\n",
      "[I 2023-07-21 10:18:04,567] Trial 40 finished with value: 20.964630126953125 and parameters: {'x': 0.05202992141529239}. Best is trial 12 with value: 20.95828628540039.\n",
      "[I 2023-07-21 10:18:04,575] Trial 41 finished with value: 20.961645126342773 and parameters: {'x': 0.048591371000934074}. Best is trial 12 with value: 20.95828628540039.\n",
      "[I 2023-07-21 10:18:04,586] Trial 42 finished with value: 21.120513916015625 and parameters: {'x': 0.10802606138102802}. Best is trial 12 with value: 20.95828628540039.\n",
      "[I 2023-07-21 10:18:04,593] Trial 43 finished with value: 21.01250457763672 and parameters: {'x': 0.00474672532039349}. Best is trial 12 with value: 20.95828628540039.\n",
      "[I 2023-07-21 10:18:04,601] Trial 44 finished with value: 20.958911895751953 and parameters: {'x': 0.043482403412563084}. Best is trial 12 with value: 20.95828628540039.\n",
      "[I 2023-07-21 10:18:04,609] Trial 45 finished with value: 20.96554183959961 and parameters: {'x': 0.05291200059542722}. Best is trial 12 with value: 20.95828628540039.\n",
      "[I 2023-07-21 10:18:04,619] Trial 46 finished with value: 21.173307418823242 and parameters: {'x': 0.11980380956679877}. Best is trial 12 with value: 20.95828628540039.\n",
      "[I 2023-07-21 10:18:04,627] Trial 47 finished with value: 23.02162742614746 and parameters: {'x': 0.4515929645231723}. Best is trial 12 with value: 20.95828628540039.\n",
      "[I 2023-07-21 10:18:04,636] Trial 48 finished with value: 21.510578155517578 and parameters: {'x': 0.18111786301082644}. Best is trial 12 with value: 20.95828628540039.\n"
     ]
    },
    {
     "name": "stderr",
     "output_type": "stream",
     "text": [
      "[I 2023-07-21 10:18:04,644] Trial 49 finished with value: 20.95948600769043 and parameters: {'x': 0.04495479049105896}. Best is trial 12 with value: 20.95828628540039.\n",
      "[I 2023-07-21 10:18:04,653] Trial 50 finished with value: 22.025508880615234 and parameters: {'x': 0.26407019378104224}. Best is trial 12 with value: 20.95828628540039.\n",
      "[I 2023-07-21 10:18:04,663] Trial 51 finished with value: 20.960033416748047 and parameters: {'x': 0.0460635420372181}. Best is trial 12 with value: 20.95828628540039.\n",
      "[I 2023-07-21 10:18:04,673] Trial 52 finished with value: 21.039709091186523 and parameters: {'x': 0.08654198156352484}. Best is trial 12 with value: 20.95828628540039.\n",
      "[I 2023-07-21 10:18:04,681] Trial 53 finished with value: 21.015544891357422 and parameters: {'x': 0.0038215679879344475}. Best is trial 12 with value: 20.95828628540039.\n",
      "[I 2023-07-21 10:18:04,694] Trial 54 finished with value: 21.246990203857422 and parameters: {'x': 0.1346967947930119}. Best is trial 12 with value: 20.95828628540039.\n",
      "[I 2023-07-21 10:18:04,706] Trial 55 finished with value: 20.9582576751709 and parameters: {'x': 0.040092522778978915}. Best is trial 55 with value: 20.9582576751709.\n",
      "[I 2023-07-21 10:18:04,717] Trial 56 finished with value: 21.04631805419922 and parameters: {'x': 0.08855630713949014}. Best is trial 55 with value: 20.9582576751709.\n",
      "[I 2023-07-21 10:18:04,729] Trial 57 finished with value: 20.969972610473633 and parameters: {'x': 0.022985995639844478}. Best is trial 55 with value: 20.9582576751709.\n",
      "[I 2023-07-21 10:18:04,741] Trial 58 finished with value: 21.616783142089844 and parameters: {'x': 0.19846014189389016}. Best is trial 55 with value: 20.9582576751709.\n",
      "[I 2023-07-21 10:18:04,752] Trial 59 finished with value: 21.32686996459961 and parameters: {'x': 0.14957843808205074}. Best is trial 55 with value: 20.9582576751709.\n",
      "[I 2023-07-21 10:18:04,764] Trial 60 finished with value: 21.14473533630371 and parameters: {'x': 0.11357810170329409}. Best is trial 55 with value: 20.9582576751709.\n",
      "[I 2023-07-21 10:18:04,775] Trial 61 finished with value: 20.958988189697266 and parameters: {'x': 0.03523243714958368}. Best is trial 55 with value: 20.9582576751709.\n",
      "[I 2023-07-21 10:18:04,786] Trial 62 finished with value: 20.95824432373047 and parameters: {'x': 0.03980408031718225}. Best is trial 62 with value: 20.95824432373047.\n",
      "[I 2023-07-21 10:18:04,797] Trial 63 finished with value: 20.96192741394043 and parameters: {'x': 0.03014216381338495}. Best is trial 62 with value: 20.95824432373047.\n",
      "[I 2023-07-21 10:18:04,813] Trial 64 finished with value: 21.021495819091797 and parameters: {'x': 0.08059661545748803}. Best is trial 62 with value: 20.95824432373047.\n",
      "[I 2023-07-21 10:18:04,821] Trial 65 finished with value: 21.025482177734375 and parameters: {'x': 0.0009691038185872733}. Best is trial 62 with value: 20.95824432373047.\n",
      "[I 2023-07-21 10:18:04,833] Trial 66 finished with value: 21.006858825683594 and parameters: {'x': 0.07525511089436765}. Best is trial 62 with value: 20.95824432373047.\n",
      "[I 2023-07-21 10:18:04,840] Trial 67 finished with value: 21.14578628540039 and parameters: {'x': 0.11381304741962886}. Best is trial 62 with value: 20.95824432373047.\n",
      "[I 2023-07-21 10:18:04,847] Trial 68 finished with value: 20.962078094482422 and parameters: {'x': 0.02995665198392279}. Best is trial 62 with value: 20.95824432373047.\n",
      "[I 2023-07-21 10:18:04,863] Trial 69 finished with value: 21.322097778320312 and parameters: {'x': 0.14871659387062408}. Best is trial 62 with value: 20.95824432373047.\n",
      "[I 2023-07-21 10:18:04,870] Trial 70 finished with value: 20.994400024414062 and parameters: {'x': 0.07011025385814619}. Best is trial 62 with value: 20.95824432373047.\n",
      "[I 2023-07-21 10:18:04,878] Trial 71 finished with value: 20.958637237548828 and parameters: {'x': 0.0363739431908644}. Best is trial 62 with value: 20.95824432373047.\n",
      "[I 2023-07-21 10:18:04,886] Trial 72 finished with value: 20.959197998046875 and parameters: {'x': 0.03467646738105701}. Best is trial 62 with value: 20.95824432373047.\n",
      "[I 2023-07-21 10:18:04,898] Trial 73 finished with value: 21.048114776611328 and parameters: {'x': 0.08909241133254184}. Best is trial 62 with value: 20.95824432373047.\n",
      "[I 2023-07-21 10:18:04,909] Trial 74 finished with value: 20.96074104309082 and parameters: {'x': 0.03176699515811235}. Best is trial 62 with value: 20.95824432373047.\n",
      "[I 2023-07-21 10:18:04,920] Trial 75 finished with value: 21.021148681640625 and parameters: {'x': 0.002182253952155766}. Best is trial 62 with value: 20.95824432373047.\n",
      "[I 2023-07-21 10:18:04,933] Trial 76 finished with value: 21.12643051147461 and parameters: {'x': 0.10940902514645028}. Best is trial 62 with value: 20.95824432373047.\n",
      "[I 2023-07-21 10:18:04,945] Trial 77 finished with value: 20.960681915283203 and parameters: {'x': 0.03185762972201704}. Best is trial 62 with value: 20.95824432373047.\n",
      "[I 2023-07-21 10:18:04,955] Trial 78 finished with value: 20.994333267211914 and parameters: {'x': 0.07008075304300285}. Best is trial 62 with value: 20.95824432373047.\n",
      "[I 2023-07-21 10:18:04,964] Trial 79 finished with value: 21.428905487060547 and parameters: {'x': 0.16742308532333353}. Best is trial 62 with value: 20.95824432373047.\n",
      "[I 2023-07-21 10:18:04,972] Trial 80 finished with value: 21.197486877441406 and parameters: {'x': 0.12485225812659262}. Best is trial 62 with value: 20.95824432373047.\n",
      "[I 2023-07-21 10:18:04,981] Trial 81 finished with value: 20.96072769165039 and parameters: {'x': 0.0472450186828239}. Best is trial 62 with value: 20.95824432373047.\n",
      "[I 2023-07-21 10:18:04,989] Trial 82 finished with value: 20.95913314819336 and parameters: {'x': 0.03484208925496168}. Best is trial 62 with value: 20.95824432373047.\n",
      "[I 2023-07-21 10:18:04,998] Trial 83 finished with value: 20.96847152709961 and parameters: {'x': 0.024057097791501503}. Best is trial 62 with value: 20.95824432373047.\n",
      "[I 2023-07-21 10:18:05,006] Trial 84 finished with value: 20.979900360107422 and parameters: {'x': 0.06294947941382306}. Best is trial 62 with value: 20.95824432373047.\n",
      "[I 2023-07-21 10:18:05,016] Trial 85 finished with value: 21.07381248474121 and parameters: {'x': 0.09633630736584171}. Best is trial 62 with value: 20.95824432373047.\n",
      "[I 2023-07-21 10:18:05,024] Trial 86 finished with value: 20.963844299316406 and parameters: {'x': 0.028003696384222197}. Best is trial 62 with value: 20.95824432373047.\n",
      "[I 2023-07-21 10:18:05,032] Trial 87 finished with value: 20.9892578125 and parameters: {'x': 0.06775539420105053}. Best is trial 62 with value: 20.95824432373047.\n",
      "[I 2023-07-21 10:18:05,040] Trial 88 finished with value: 21.25747299194336 and parameters: {'x': 0.13671166311556443}. Best is trial 62 with value: 20.95824432373047.\n",
      "[I 2023-07-21 10:18:05,048] Trial 89 finished with value: 21.06121253967285 and parameters: {'x': 0.09287712546228753}. Best is trial 62 with value: 20.95824432373047.\n",
      "[I 2023-07-21 10:18:05,056] Trial 90 finished with value: 21.546085357666016 and parameters: {'x': 0.18696192580912566}. Best is trial 62 with value: 20.95824432373047.\n",
      "[I 2023-07-21 10:18:05,063] Trial 91 finished with value: 20.960697174072266 and parameters: {'x': 0.04720043772663794}. Best is trial 62 with value: 20.95824432373047.\n",
      "[I 2023-07-21 10:18:05,076] Trial 92 finished with value: 20.976818084716797 and parameters: {'x': 0.01883262442405295}. Best is trial 62 with value: 20.95824432373047.\n",
      "[I 2023-07-21 10:18:05,088] Trial 93 finished with value: 21.0242977142334 and parameters: {'x': 0.0012964148062991898}. Best is trial 62 with value: 20.95824432373047.\n",
      "[I 2023-07-21 10:18:05,097] Trial 94 finished with value: 20.95972442626953 and parameters: {'x': 0.0454616951355606}. Best is trial 62 with value: 20.95824432373047.\n",
      "[I 2023-07-21 10:18:05,104] Trial 95 finished with value: 21.119361877441406 and parameters: {'x': 0.10775472692646301}. Best is trial 62 with value: 20.95824432373047.\n",
      "[I 2023-07-21 10:18:05,115] Trial 96 finished with value: 20.982824325561523 and parameters: {'x': 0.06453943294273504}. Best is trial 62 with value: 20.95824432373047.\n",
      "[I 2023-07-21 10:18:05,128] Trial 97 finished with value: 20.958269119262695 and parameters: {'x': 0.03862885747244034}. Best is trial 62 with value: 20.95824432373047.\n"
     ]
    },
    {
     "name": "stderr",
     "output_type": "stream",
     "text": [
      "[I 2023-07-21 10:18:05,138] Trial 98 finished with value: 21.014057159423828 and parameters: {'x': 0.07796030040550225}. Best is trial 62 with value: 20.95824432373047.\n",
      "[I 2023-07-21 10:18:05,158] Trial 99 finished with value: 21.34369659423828 and parameters: {'x': 0.15259583517020947}. Best is trial 62 with value: 20.95824432373047.\n"
     ]
    }
   ],
   "source": [
    "study = optuna.create_study(direction='minimize')\n",
    "study.optimize(objective, n_trials=100)\n",
    "\n",
    "best_trial = study.best_trial\n",
    "best_c_optuna = best_trial.params['x']"
   ]
  },
  {
   "cell_type": "code",
   "execution_count": 36,
   "id": "91804a71",
   "metadata": {
    "slideshow": {
     "slide_type": "slide"
    }
   },
   "outputs": [
    {
     "data": {
      "text/plain": [
       "[<matplotlib.lines.Line2D at 0x17d0519c0>]"
      ]
     },
     "execution_count": 36,
     "metadata": {},
     "output_type": "execute_result"
    },
    {
     "data": {
      "image/png": "[encoded data removed]",
      "text/plain": [
       "<Figure size 640x480 with 1 Axes>"
      ]
     },
     "metadata": {},
     "output_type": "display_data"
    }
   ],
   "source": [
    "df_study = study.trials_dataframe()\n",
    "plt.plot(df_study['params_x'], df_study['value'], 'o', alpha=0.5)\n",
    "plt.show()"
   ]
  },
  {
   "cell_type": "markdown",
   "id": "4f33547c",
   "metadata": {
    "slideshow": {
     "slide_type": "skip"
    }
   },
   "source": [
    "* Evident from above that Optuna keeps decreasing the search space after each iteration to get close to the best centeredness value."
   ]
  },
  {
   "cell_type": "code",
   "execution_count": 37,
   "id": "af154b10",
   "metadata": {
    "slideshow": {
     "slide_type": "skip"
    }
   },
   "outputs": [],
   "source": [
    "# Function for creating the scatter plot\n",
    "def scatterplt_2(samples, c):\n",
    "    fig, axes = plt.subplots(1, 2, figsize=(8, 3))\n",
    "    axes = axes.flatten()\n",
    "    reparam_sample, mvn, mu_theta, std_theta = reparameterize_samples_dist(samples, c)\n",
    "    reparam_sample = reparam_sample if reparam else samples['theta'].T\n",
    "    axes[0].scatter(reparam_sample[0],jnp.log(samples['tau']))\n",
    "    axes[0].set_xlabel('theta0_reparam')\n",
    "    axes[0].set_ylabel('log_std')\n",
    "\n",
    "    axes[1].scatter(samples['theta'].T[0],jnp.log(samples['tau']))\n",
    "    axes[1].set_xlabel('theta0')"
   ]
  },
  {
   "cell_type": "markdown",
   "id": "58f461ab",
   "metadata": {
    "slideshow": {
     "slide_type": "fragment"
    }
   },
   "source": [
    "* Results obtained from initial experiments"
   ]
  },
  {
   "cell_type": "code",
   "execution_count": 40,
   "id": "e99823fa",
   "metadata": {
    "slideshow": {
     "slide_type": "fragment"
    }
   },
   "outputs": [
    {
     "data": {
      "image/png": "[encoded data removed]",
      "text/plain": [
       "<Figure size 800x300 with 2 Axes>"
      ]
     },
     "metadata": {},
     "output_type": "display_data"
    }
   ],
   "source": [
    "scatterplt_2(samples, c = best_c_jax)     ## Using the best centeredness computed"
   ]
  },
  {
   "cell_type": "markdown",
   "id": "47be4b20",
   "metadata": {
    "slideshow": {
     "slide_type": "slide"
    }
   },
   "source": [
    "## **Implementation**\n",
    "\n",
    "* Modified BlackJax sampler code to incorporate the proposed algorithm.\n",
    "* Inference time up from 2 seconds to 20 seconds.\n",
    "* To evaluate the results used a model whose true centeredness already known:\n",
    "\n",
    "**Write the model**"
   ]
  },
  {
   "cell_type": "markdown",
   "id": "9d54a570",
   "metadata": {
    "slideshow": {
     "slide_type": "slide"
    }
   },
   "source": [
    "## **Results**\n",
    "\n",
    "\n",
    "<div style=\"display: flex; flex-direction: row; justify-content: space-between;\">\n",
    "<div>\n",
    "    <img width=\"700\" alt=\"image\" src=\"images/wnr/true_calculated.png\">\n",
    "</div>\n",
    "<div>    \n",
    "<img width=\"700\" alt=\"image\" src=\"images/wnr/l2_norm_plot.png\">\n",
    "    </div>\n",
    "</div>"
   ]
  },
  {
   "cell_type": "markdown",
   "id": "c093b32d",
   "metadata": {
    "slideshow": {
     "slide_type": "slide"
    }
   },
   "source": [
    "\n",
    "## **Results**\n",
    "\n",
    "<img width=\"700\" alt=\"image\" src=\"images/wnr/method_comparison.png\">"
   ]
  },
  {
   "cell_type": "markdown",
   "id": "59efb100",
   "metadata": {
    "slideshow": {
     "slide_type": "slide"
    }
   },
   "source": [
    "## **Results**\n",
    "\n",
    "* Lets' compare the sampling efficieny\n",
    "\n",
    "$\\begin{array}{c} \\hline\n",
    "Parameter & ESS/ \\nabla (vip) & ESS/ \\nabla (our) \\\\ \\hline\n",
    "\\mu & 9.27*10^{-4} & 5.54*10^{-4} \\\\\n",
    "\\tau & 4.22*10^{-5} & \\textbf{$5.07*10^{-4}$} \\\\\n",
    "\\theta & 9.73*10^{-4} & \\textbf{$1.66*10^{-3}$} \\\\ \\hline\n",
    "\\end{array}$"
   ]
  },
  {
   "cell_type": "markdown",
   "id": "31b19e10",
   "metadata": {
    "slideshow": {
     "slide_type": "fragment"
    }
   },
   "source": [
    "* Our ESS/ $\\nabla$ results better then the ones produced by existing methods. "
   ]
  },
  {
   "cell_type": "markdown",
   "id": "14e5ebe6",
   "metadata": {
    "slideshow": {
     "slide_type": "slide"
    }
   },
   "source": [
    "## **Future Work**\n",
    "\n",
    "* Changing the default window sizes.\n",
    "* Trying different parameterization families."
   ]
  },
  {
   "cell_type": "markdown",
   "id": "be617e5b",
   "metadata": {
    "slideshow": {
     "slide_type": "slide"
    }
   },
   "source": [
    "## **References**\n",
    "[1] M.I.Gorinova,D.Moore,andM.D.Hoffman,“Automaticreparameterisation of probabilistic programs,” 2019.\n",
    "\n",
    "[2] M.Hoffman,P.Sountsov,etal.,“Neutra-lizing bad geometry in hamiltonian monte carlo using neural transport,” 2019."
   ]
  }
 ],
 "metadata": {
  "celltoolbar": "Slideshow",
  "kernelspec": {
   "display_name": "reparam-poetry",
   "language": "python",
   "name": "reparam-poetry"
  },
  "language_info": {
   "codemirror_mode": {
    "name": "ipython",
    "version": 3
   },
   "file_extension": ".py",
   "mimetype": "text/x-python",
   "name": "python",
   "nbconvert_exporter": "python",
   "pygments_lexer": "ipython3",
   "version": "3.10.12"
  },
  "rise": {
   "footer": "<h2> madhav-kanda.github.io </h2>"
  }
 },
 "nbformat": 4,
 "nbformat_minor": 5
}
