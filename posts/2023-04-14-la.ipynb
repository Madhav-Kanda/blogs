{
  "cells": [
    {
      "cell_type": "raw",
      "metadata": {},
      "source": [
        "---\n",
        "aliases:\n",
        "- /LA/2023/04/12\n",
        "author: Madhav Kanda\n",
        "badges: true\n",
        "categories:\n",
        "- Laplace Approximation\n",
        "- ML\n",
        "date: '2023-03-28'\n",
        "description: Implementing Laplace Approximation in JAX\n",
        "output-file: 2023-04-12-la.html\n",
        "title: Laplace Approximation\n",
        "toc: true\n",
        "\n",
        "---"
      ]
    },
    {
      "cell_type": "code",
      "execution_count": null,
      "metadata": {
        "id": "W-2qkYqjVqt7"
      },
      "outputs": [],
      "source": [
        "try:\n",
        "  import jax\n",
        "except ModuleNotFoundError:\n",
        "  %pip install jaxlib jax\n",
        "  import jax\n",
        "import jax.numpy as jnp\n",
        "try:\n",
        "  import tensorflow_probability.substrates.jax as tfp\n",
        "except ModuleNotFoundError:\n",
        "  %pip install tensorflow-probability\n",
        "  import tensorflow_probability.substrates.jax as tfp\n",
        "import matplotlib.pyplot as plt\n",
        "import warnings\n",
        "import seaborn as sns\n",
        "from tqdm import trange\n",
        "import logging\n",
        "logger = logging.getLogger()\n",
        "class CheckTypesFilter(logging.Filter):\n",
        "    def filter(self, record):\n",
        "        return \"check_types\" not in record.getMessage()\n",
        "\n",
        "\n",
        "logger.addFilter(CheckTypesFilter())"
      ]
    },
    {
      "attachments": {},
      "cell_type": "markdown",
      "metadata": {
        "id": "v3RXpun8QHmz"
      },
      "source": [
        "### Sampling from the Bernouli distribution with $\\theta$ = 0.7\n"
      ]
    },
    {
      "cell_type": "code",
      "execution_count": null,
      "metadata": {
        "colab": {
          "base_uri": "https://localhost:8080/"
        },
        "id": "1zcj3x83gqUX",
        "outputId": "69368e1d-ef90-4624-9d88-06d8528f0f4e"
      },
      "outputs": [
        {
          "name": "stdout",
          "output_type": "stream",
          "text": [
            "[1 0 0 1 1 0 1 1 1 1 1 1 0 0 1 0 1 1 1 1 1 0 1 0 1 1 1 1 0 1 0 1 1 0 1 1 1\n",
            " 1 0 1 1 1 1 0 0 0 1 1 1 0 1 1 0 1 1 1 1 0 1 1 1 0 1 0 0 0 1 1 1 0 1 0 0 1\n",
            " 1 1 1 0 1 1 0 1 1 1 1 1 1 0 1 1 1 1 1 1 0 1 1 0 0 1]\n"
          ]
        },
        {
          "data": {
            "text/plain": [
              "DeviceArray(69, dtype=int32)"
            ]
          },
          "execution_count": 66,
          "metadata": {},
          "output_type": "execute_result"
        }
      ],
      "source": [
        "bernoulli_samples = tfp.distributions.Bernoulli(probs=0.7)\n",
        "samples = bernoulli_samples.sample(sample_shape=100, seed=jax.random.PRNGKey(0))\n",
        "print(samples)\n",
        "alpha = 3\n",
        "beta = 5\n",
        "samples.sum()"
      ]
    },
    {
      "attachments": {},
      "cell_type": "markdown",
      "metadata": {
        "id": "8PjLfKM3QiMB"
      },
      "source": [
        "### Negative log joint"
      ]
    },
    {
      "cell_type": "code",
      "execution_count": null,
      "metadata": {
        "id": "62DYNsSAg4p7"
      },
      "outputs": [],
      "source": [
        "def neg_logjoint(theta):\n",
        "    alpha = 3\n",
        "    beta = 5\n",
        "    dist_prior = tfp.distributions.Beta(alpha, beta)\n",
        "    dist_likelihood = tfp.distributions.Bernoulli(probs=theta)\n",
        "    return -(dist_prior.log_prob(theta) + dist_likelihood.log_prob(samples).sum())"
      ]
    },
    {
      "attachments": {},
      "cell_type": "markdown",
      "metadata": {
        "id": "mRl5YeLVTaWx"
      },
      "source": [
        "### Calculating $\\theta_{map}$ by minimising the negative log joint using gradient descent\n"
      ]
    },
    {
      "cell_type": "code",
      "execution_count": null,
      "metadata": {
        "colab": {
          "base_uri": "https://localhost:8080/",
          "height": 300
        },
        "id": "gvbge2nMiNnf",
        "outputId": "b3f18857-0806-4835-9b4a-bfff12eae8ac"
      },
      "outputs": [
        {
          "name": "stderr",
          "output_type": "stream",
          "text": [
            "100%|██████████| 200/200 [00:02<00:00, 71.83it/s] \n"
          ]
        },
        {
          "data": {
            "text/plain": [
              "DeviceArray(0.6698113, dtype=float32, weak_type=True)"
            ]
          },
          "execution_count": 68,
          "metadata": {},
          "output_type": "execute_result"
        },
        {
          "data": {
            "image/png": "[encoded data removed]",
            "text/plain": [
              "<Figure size 432x288 with 1 Axes>"
            ]
          },
          "metadata": {
            "needs_background": "light"
          },
          "output_type": "display_data"
        }
      ],
      "source": [
        "gradient = jax.value_and_grad(jax.jit(neg_logjoint))\n",
        "lr = 0.001\n",
        "epochs = 200\n",
        "theta_map = 0.5\n",
        "losses = []\n",
        "for i in trange(epochs):\n",
        "    val, grad = gradient(theta_map)\n",
        "    theta_map -= lr * grad\n",
        "    losses.append(val)\n",
        "plt.plot(losses)\n",
        "sns.despine()\n",
        "theta_map"
      ]
    },
    {
      "attachments": {},
      "cell_type": "markdown",
      "metadata": {
        "id": "YFAdtyOmjYtK"
      },
      "source": [
        "### Verification of obtained $\\theta_{map}$ value using the formula:\n",
        "\n",
        "### $\\theta_{map} = \\frac{n_h+\\alpha-1}{n_h+n_t+\\alpha+\\beta-2}$"
      ]
    },
    {
      "cell_type": "code",
      "execution_count": null,
      "metadata": {
        "colab": {
          "base_uri": "https://localhost:8080/"
        },
        "id": "Oi-qtU4DjeYe",
        "outputId": "345b28ca-5dd9-48ea-86f3-fd0ba4345776"
      },
      "outputs": [
        {
          "data": {
            "text/plain": [
              "DeviceArray(0.6698113, dtype=float32)"
            ]
          },
          "execution_count": 69,
          "metadata": {},
          "output_type": "execute_result"
        }
      ],
      "source": [
        "nH = samples.sum().astype(\"float32\")\n",
        "nT = (samples.size - nH).astype(\"float32\")\n",
        "theta_check = (nH + alpha - 1) / (nH + nT + alpha + beta - 2)\n",
        "theta_check"
      ]
    },
    {
      "attachments": {},
      "cell_type": "markdown",
      "metadata": {
        "id": "8taw4ot8vstN"
      },
      "source": [
        "### Computing Hessian and Covariance"
      ]
    },
    {
      "cell_type": "code",
      "execution_count": null,
      "metadata": {
        "colab": {
          "base_uri": "https://localhost:8080/"
        },
        "id": "RnX-8T0gj2J2",
        "outputId": "476837e7-88eb-43a9-b553-54e1faa2dfc7"
      },
      "outputs": [
        {
          "data": {
            "text/plain": [
              "DeviceArray([[0.00208645]], dtype=float32)"
            ]
          },
          "execution_count": 70,
          "metadata": {},
          "output_type": "execute_result"
        }
      ],
      "source": [
        "hessian = jax.hessian(neg_logjoint)(theta_map)\n",
        "hessian = jnp.reshape(hessian, (1, 1))\n",
        "cov = jnp.linalg.inv(hessian)\n",
        "cov"
      ]
    },
    {
      "attachments": {},
      "cell_type": "markdown",
      "metadata": {
        "id": "3Q6Iylc_xlZq"
      },
      "source": [
        "### Plots Comparing the distribution obtained using Laplace approximation with actual Beta Bernoulli posterior"
      ]
    },
    {
      "cell_type": "code",
      "execution_count": null,
      "metadata": {
        "colab": {
          "base_uri": "https://localhost:8080/",
          "height": 282
        },
        "id": "NBo_gSYixmpe",
        "outputId": "e264535e-5bf1-41c6-d91a-aa3fabf9f3d2"
      },
      "outputs": [
        {
          "data": {
            "text/plain": [
              "<matplotlib.legend.Legend at 0x7f2181895a10>"
            ]
          },
          "execution_count": 71,
          "metadata": {},
          "output_type": "execute_result"
        },
        {
          "data": {
            "image/png": "[encoded data removed]",
            "text/plain": [
              "<Figure size 432x288 with 1 Axes>"
            ]
          },
          "metadata": {
            "needs_background": "light"
          },
          "output_type": "display_data"
        }
      ],
      "source": [
        "x = jnp.linspace(0, 1, 100)\n",
        "x = x.reshape(-1, 1)\n",
        "Laplace_Approx = tfp.distributions.MultivariateNormalFullCovariance(\n",
        "    loc=theta_map, covariance_matrix=cov\n",
        ")\n",
        "Laplace_Approx_pdf = Laplace_Approx.prob(x)\n",
        "plt.plot(x, Laplace_Approx_pdf, label=\"Laplace Approximation\")\n",
        "\n",
        "alpha = 3\n",
        "beta = 5\n",
        "true_posterior = tfp.distributions.Beta(alpha + nH, beta + nT)\n",
        "true_posterior_pdf = true_posterior.prob(x)\n",
        "plt.plot(x, true_posterior_pdf, label=\"True Posterior\")\n",
        "plt.xlim(0, 1)\n",
        "plt.legend()"
      ]
    },
    {
      "cell_type": "code",
      "execution_count": null,
      "metadata": {
        "colab": {
          "base_uri": "https://localhost:8080/",
          "height": 282
        },
        "id": "ouzlB3FWuI1l",
        "outputId": "5672c5c4-363b-46f0-8157-fce52cb785c3"
      },
      "outputs": [
        {
          "data": {
            "text/plain": [
              "<matplotlib.legend.Legend at 0x7f2180719250>"
            ]
          },
          "execution_count": 72,
          "metadata": {},
          "output_type": "execute_result"
        },
        {
          "data": {
            "image/png": "[encoded data removed]",
            "text/plain": [
              "<Figure size 432x288 with 1 Axes>"
            ]
          },
          "metadata": {
            "needs_background": "light"
          },
          "output_type": "display_data"
        }
      ],
      "source": [
        "# Using log_prob\n",
        "true_posterior_pdf_log = true_posterior.log_prob(x)\n",
        "Laplace_Approx_pdf_log = Laplace_Approx.log_prob(x)\n",
        "plt.plot(x, Laplace_Approx_pdf_log, label=\"Laplace Approximation\")\n",
        "plt.plot(x, true_posterior_pdf_log, label=\"True Posterior\")\n",
        "plt.legend()"
      ]
    }
  ],
  "metadata": {
    "colab": {
      "provenance": []
    },
    "kernelspec": {
      "display_name": "Python 3",
      "name": "python3"
    },
    "language_info": {
      "name": "python"
    }
  },
  "nbformat": 4,
  "nbformat_minor": 0
}
